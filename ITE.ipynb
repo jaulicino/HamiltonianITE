{
 "cells": [
  {
   "cell_type": "markdown",
   "id": "e9127c46",
   "metadata": {},
   "source": [
    "<h1> ITE </h1>\n",
    "\n",
    "This notebook contains the required codes to execute approximate imaginary time evolution on a Quantum Device (simulated or otherwise) using IBM's Qiskit API. The Hamiltonian we reference was proposed by Smith et. al. in 2019$^{[1]}$. It is related to the Heisenberg model and has interesting physical uses. We will estimate the ground state energies of our Hamiltonians (for various $J$ and $U$) by approximating the operator $e^{\\tau \\mathcal{H}}$. Our Hamiltonian is shown below,\n",
    "\n",
    "$$\\mathcal{H} = J \\sum_{<ij>} \\sigma_x^i \\sigma_x^j + \\sigma_y^i \\sigma_y^j + U \\sum_{<ij>} \\sigma_z^i \\sigma_z^j + B \\sum_i \\sigma_z$$\n",
    "\n",
    "Here, J, U and B are scalars and the $\\sigma_l^i$ is the famililar Pauli-spin operator applied to site $i$. In order to simplify the analysis we will set $B=1.0$ and vary $J,U$. Varying $B$ as well simply reduces to multiplying the whole system's ground states by a scalar. \n",
    "\n",
    "We will use the ansatz suggested in Peng 2021$^{[2]}$, expressed in big-endian.\n",
    "\n",
    "$$|\\psi \\rangle = C_z^{0,1}C_z^{1,2}C_z^{2,3}R_y^0(\\theta_0)R_y^2(\\theta_1)R_y^3(\\pi)|1100\\rangle$$\n",
    "\n",
    "<h2> References </h2>\n",
    "\n",
    "1] Adam Smith, M. Kim, Frank Pollmann, and Johannes Knolle.  Simulating quantum many-bodydynamics on a current digital quantum computer.<em>npj Quantum Information</em>, 5, 12 2019\n",
    "\n",
    "2] Bo Peng and Karol Kowalski.  Variational quantum solver employing the pds energy functional. <em>Quantum</em>, 5:473, 06 2021.\n",
    "\n"
   ]
  },
  {
   "cell_type": "markdown",
   "id": "3e1debbb",
   "metadata": {},
   "source": [
    "------------------------------"
   ]
  },
  {
   "cell_type": "markdown",
   "id": "70f5b326",
   "metadata": {},
   "source": [
    "<h2> Imports </h2>"
   ]
  },
  {
   "cell_type": "code",
   "execution_count": 57,
   "id": "1bc6fe53",
   "metadata": {},
   "outputs": [],
   "source": [
    "from hamiltonians import *\n",
    "import qiskit as qm"
   ]
  },
  {
   "cell_type": "markdown",
   "id": "5a486017",
   "metadata": {},
   "source": [
    "<h2> Setting up Analytical Analysis </h2>"
   ]
  },
  {
   "cell_type": "code",
   "execution_count": 115,
   "id": "83bc9d47",
   "metadata": {},
   "outputs": [],
   "source": [
    "ket0 = np.array([1.,0.],dtype=complex)\n",
    "ket1 = np.array([0.,1.],dtype=complex)\n",
    "\n",
    "\n",
    "PauliX = np.array([[0.,1.],[1.,0]], dtype=complex)\n",
    "PauliY = np.array([[0.,-1.j],[1.j,0]], dtype=complex)\n",
    "PauliZ = np.array([[1.0,0.],[0.,-1.]], dtype=complex)\n",
    "PauliI = np.eye(2, dtype=complex)\n",
    "PauliVec = [PauliX, PauliY, PauliZ]\n",
    "PauliDict = {\"Identity\": \"I\", \"PauliX\": \"X\", \"PauliY\": \"Y\", \"PauliZ\": \"Z\"}"
   ]
  },
  {
   "cell_type": "code",
   "execution_count": 116,
   "id": "0da5a124",
   "metadata": {},
   "outputs": [],
   "source": [
    "def RY(theta):\n",
    "    '''\n",
    "        matrix representation of the RY gate in the Z computational basis\n",
    "    '''\n",
    "    matrix = np.zeros((2,2),dtype=complex)\n",
    "    matrix[0,0] = np.cos(theta/2)\n",
    "    matrix[1,1] = np.cos(theta/2)\n",
    "    matrix[0,1] = -np.sin(theta/2)\n",
    "    matrix[1,0] =  np.sin(theta/2)\n",
    "    return matrix"
   ]
  },
  {
   "cell_type": "code",
   "execution_count": 117,
   "id": "3c5b7304",
   "metadata": {},
   "outputs": [],
   "source": [
    "def preparePsiNumerical(theta):\n",
    "    '''\n",
    "        represent ansatz in the Z computational basis\n",
    "    '''\n",
    "    Initial = np.kron(ket0,np.kron(ket0,np.kron(ket0,ket0)))\n",
    "    Layer1  = np.kron(PauliX,np.kron(PauliX,np.kron(PauliI,PauliI)))\n",
    "    Layer2  = np.kron(RY(theta[0]),np.kron(PauliI,np.kron(RY(theta[1]),RY(np.pi))))\n",
    "    Layer3  = np.kron(cz(),cz())\n",
    "    Layer4  = np.kron(PauliI,np.kron(cz(),PauliI))\n",
    "    return Layer4@Layer3@Layer2@Layer1@Initial"
   ]
  },
  {
   "cell_type": "code",
   "execution_count": 118,
   "id": "07073ce5",
   "metadata": {},
   "outputs": [],
   "source": [
    "def hamiltonianMatrix(j,u,b=1.0,n=4):\n",
    "    '''\n",
    "        represent our Hamiltonian as a matrix\n",
    "    '''\n",
    "    combos = list(combinations([int(i) for i in range(n)],2))\n",
    "    H = np.zeros((16,16), dtype=complex)\n",
    "    for bits in combos:\n",
    "        for k in range(3):\n",
    "            A = [I2 for i in range(4)]\n",
    "            A[bits[0]] = PauliVec[k]\n",
    "            A[bits[1]] = PauliVec[k]\n",
    "            x = j\n",
    "            if(k==2):\n",
    "                x = u\n",
    "            H += x*np.kron(A[0],np.kron(A[1],np.kron(A[2],A[3])))\n",
    "            \n",
    "    for i in [0,1,2,3]:\n",
    "        A = [I2 for i in range(4)]\n",
    "        A[i] = PauliZ\n",
    "        H += b*np.kron(A[0],np.kron(A[1],np.kron(A[2],A[3])))\n",
    "    return H"
   ]
  },
  {
   "cell_type": "code",
   "execution_count": 190,
   "id": "7338a7ec",
   "metadata": {},
   "outputs": [],
   "source": [
    "x = np.linspace(0,1,12)\n",
    "Js, Us = np.meshgrid(x,x)\n",
    "Gnd_analytical = np.zeros(Js.shape, dtype=complex)\n",
    "for i in range(len(Js)):\n",
    "    for j in range(len(Js[i])):\n",
    "        Gnd_analytical[i,j] = np.min(np.linalg.eig(hamiltonianMatrix(Js[i,j], Us[i,j]))[0])"
   ]
  },
  {
   "cell_type": "code",
   "execution_count": 191,
   "id": "628aad68",
   "metadata": {},
   "outputs": [
    {
     "data": {
      "text/plain": [
       "<matplotlib.contour.QuadContourSet at 0x233ff288700>"
      ]
     },
     "execution_count": 191,
     "metadata": {},
     "output_type": "execute_result"
    },
    {
     "data": {
      "image/png": "[encoded data removed]",
      "text/plain": [
       "<Figure size 432x288 with 1 Axes>"
      ]
     },
     "metadata": {
      "needs_background": "light"
     },
     "output_type": "display_data"
    }
   ],
   "source": [
    "plt.contourf(Js, Us, Gnd_analytical.real)"
   ]
  },
  {
   "cell_type": "markdown",
   "id": "65b93981",
   "metadata": {},
   "source": [
    "These are the numerical ground state eigenvalue for a test 4-site Hamiltonian. Now, we will try to reproduce the PES by approximating ITE.\n",
    "\n",
    "---------------------------------\n",
    "\n",
    "<h2> ITE Step 1) Set up Quantum Device and Ansatz </h2>"
   ]
  },
  {
   "cell_type": "code",
   "execution_count": 192,
   "id": "3314a660",
   "metadata": {},
   "outputs": [],
   "source": [
    "'''\n",
    "\n",
    "Use this block if you would like to run on an IBM Quantum device \n",
    "\n",
    "IBMQ.load_account() # Load account from disk\n",
    "IBMQ.providers()    # List all available providers\n",
    "\n",
    "provider = IBMQ.get_provider(hub='ibm-q')\n",
    "provider.backends()\n",
    "\n",
    "'''\n",
    "from qiskit import IBMQ, Aer\n",
    "\n",
    "backend = Aer.get_backend('qasm_simulator')\n",
    "shots = 2**13\n",
    "thetaTest = np.array([-2.0,1.0])\n",
    "\n",
    "def preparePsi(theta):\n",
    "    qc = qm.QuantumCircuit(4,4)\n",
    "    qc.x(0)\n",
    "    qc.x(1)\n",
    "    qc.ry(np.pi, 3)\n",
    "    qc.ry(theta[1],2)\n",
    "    qc.ry(theta[0],0)\n",
    "    qc.cz(2,3)\n",
    "    qc.cz(1,2)\n",
    "    qc.cz(0,1)\n",
    "    return qc"
   ]
  },
  {
   "cell_type": "markdown",
   "id": "7a9f3e98",
   "metadata": {},
   "source": [
    "<h2> ITE Step 2) Collect QWC Groups and Measure Computational Basis </h2>"
   ]
  },
  {
   "cell_type": "code",
   "execution_count": 193,
   "id": "e1ed9b38",
   "metadata": {},
   "outputs": [
    {
     "name": "stdout",
     "output_type": "stream",
     "text": [
      "SUCCESS!!! Found  21  commuting groups\n"
     ]
    }
   ],
   "source": [
    "def fullWord(letters, indeces, n=4):\n",
    "    W = [\"I\"]*n\n",
    "    for i in range(len(indeces)):\n",
    "        W[indeces[i]] = letters[i]\n",
    "    return \"\".join(W)\n",
    "\n",
    "QWC_bases = []\n",
    "round_ = 0\n",
    "for j in np.linspace(0,1,3):\n",
    "    for u in np.linspace(0,1,3):\n",
    "        round_ += 1\n",
    "        L, C = heisenberg_letters(u, u, 1, 4)\n",
    "        Hamil = Hamiltonian(L, C)\n",
    "        Hamil = Hamil.exp(15)\n",
    "        Groupings, Coeffs = Hamil.grouping()\n",
    "        new = []\n",
    "        for group in Groupings:\n",
    "            Word = [\"I\"]*4\n",
    "            for obs in group:\n",
    "                ws = (list(obs.wires))\n",
    "                if(len(ws) > 1):\n",
    "                    for index in range(len(ws)):\n",
    "                        if(Word[ws[index]] == \"I\"): Word[ws[index]] = PauliDict[obs.name[index]]\n",
    "\n",
    "                else:\n",
    "                    if(Word[ws[0]] == \"I\"): Word[ws[0]] = PauliDict[obs.name]\n",
    "            if not Word in QWC_bases:\n",
    "                QWC_bases += [Word]\n",
    "                new += [Word]\n",
    "        # print(\"--------------\")\n",
    "        # print(\"Round: \", round_, \" of 9\")\n",
    "        # print(\"New Bases: \", new)\n",
    "print(\"SUCCESS!!! Found \", len(QWC_bases), \" commuting groups\")"
   ]
  },
  {
   "cell_type": "code",
   "execution_count": 194,
   "id": "24180c47",
   "metadata": {},
   "outputs": [],
   "source": [
    "circs = []\n",
    "for i in range(len(QWC_bases)):\n",
    "    base = QWC_bases[i]\n",
    "    qc = preparePsi(thetaTest)\n",
    "    for i in range(len(base)):\n",
    "        \n",
    "        #rotate qubits into the correct computational basis\n",
    "        if base[i] == \"X\":\n",
    "            qc.h(i)\n",
    "        elif base[i] == \"Y\":\n",
    "            qc.rx(np.pi/2,i)\n",
    "    \n",
    "        qc.measure(i,i)\n",
    "    circs += [qc]\n",
    "\n",
    "job = qm.execute(circs, shots=shots,backend=backend)\n",
    "cal_results = job.result()\n"
   ]
  },
  {
   "cell_type": "markdown",
   "id": "7cc6c6b5",
   "metadata": {},
   "source": [
    "<h2> ITE Step 3) Calculate the expectation values of available Pauli observables </h2>"
   ]
  },
  {
   "cell_type": "code",
   "execution_count": 195,
   "id": "65fc7558",
   "metadata": {},
   "outputs": [],
   "source": [
    "from itertools import product\n",
    "\n",
    "def stringToBasisState(string):\n",
    "    ket0 = np.array([1.,0.])\n",
    "    ket1 = np.array([0., 1.])\n",
    "    if(len(string)>2):\n",
    "        if(string[0]==\"1\"):\n",
    "            return np.kron(ket1, stringToBasisState(string[1:]))\n",
    "        else:\n",
    "            return np.kron(ket0, stringToBasisState(string[1:]))\n",
    "    else:\n",
    "        A = [ket0, ket0]\n",
    "        if(string[0] == \"1\"):\n",
    "            A[0] = ket1\n",
    "        if(string[1] == \"1\"):\n",
    "            A[1] = ket1\n",
    "        return np.kron(A[0], A[1])\n",
    "    \n",
    "def expectationFromGroupMeasurment(measurement, obs):\n",
    "    pauliEigen = np.array([1.,-1.])\n",
    "    identityEigen = np.array([1.,1.])\n",
    "    eigen = [pauliEigen]*4\n",
    "    for i in range(len(eigen)):\n",
    "        if(obs[i]==\"I\"):\n",
    "            eigen[i] = identityEigen\n",
    "    eigen = np.kron(np.kron(np.kron(eigen[0], eigen[1]),eigen[2]), eigen[3])\n",
    "    return measurement @ eigen\n",
    "    \n",
    "keys = [\"\".join(base) for base in QWC_bases]\n",
    "dict_results = {}\n",
    "for i in range(len(cal_results.results)):\n",
    "    res = cal_results.results[i].data.counts\n",
    "    calculations = np.zeros(16)\n",
    "    for place in res:\n",
    "        st = bin(int(place,16))[2:]\n",
    "        st = str(st)\n",
    "        add = \"0\"*int(4-len(st))\n",
    "        st = add+st\n",
    "        #flip for Qiskit endian convention\n",
    "        basis = stringToBasisState(st[::-1])\n",
    "        calculations += basis * res[place]/shots\n",
    "    dict_results[keys[i]] = calculations\n",
    "\n",
    "\n",
    "expectation_values = {}\n",
    "for key in dict_results:\n",
    "    options = [\"ZI\"]*4\n",
    "    for wire in range(len(key)):\n",
    "        if(key[wire] == \"X\"):\n",
    "            options[wire]= \"XI\"\n",
    "        elif(key[wire] == \"Y\"):\n",
    "            options[wire]= \"YI\"\n",
    "    products = list(product(*options))\n",
    "    for product_ in products:\n",
    "        if not product_ in expectation_values:\n",
    "            p = \"\".join(product_)\n",
    "            expectation_values[p] = expectationFromGroupMeasurment(dict_results[key], p)"
   ]
  },
  {
   "cell_type": "markdown",
   "id": "9763638c",
   "metadata": {},
   "source": [
    "<h2> ITE Step 4) Evaluate ITE using calculated expectations </h2>"
   ]
  },
  {
   "cell_type": "code",
   "execution_count": 196,
   "id": "29d3a463",
   "metadata": {},
   "outputs": [],
   "source": [
    "def NumerHamil(tau,J,U,B,order=13):\n",
    "    L, C = heisenberg_letters(J, U, B,4)\n",
    "    HA = Hamiltonian(L, C)\n",
    "    P = HA.multScalar((-0.125)*tau)\n",
    "    P = P.exp(order)\n",
    "    P = P.powerFast(8)\n",
    "    #note hermitian ---> do not need P dagger\n",
    "    C = P.multiply(HA.multiply(P))\n",
    "    return C\n",
    "\n",
    "def DenomHamil(tau,J,U,B,order=13):\n",
    "    L, C = heisenberg_letters(J,U,B,4)\n",
    "    HA = Hamiltonian(L, C)\n",
    "    P = HA.multScalar(-0.25*tau)\n",
    "    P = P.exp(order)\n",
    "    P = P.powerFast(8)\n",
    "    return P\n",
    "\n",
    "\n",
    "def CostHamil(Hamil, energies):\n",
    "    e = 0\n",
    "    for i in range(len(Hamil.letters)):\n",
    "        e+=Hamil.coeffs[i]*energies[Hamil.letters[i][::-1]]\n",
    "    return float(e.real)\n",
    "\n",
    "def CostSys(tau, J,U,B,energies):\n",
    "    numerHamil = NumerHamil(tau,J,U,B).clean()\n",
    "    denomHamil = DenomHamil(tau,J,U,B).clean()\n",
    "    eNumer = CostHamil(numerHamil, energies)\n",
    "    eDenom = CostHamil(denomHamil, energies)\n",
    "    return (eNumer / eDenom)\n"
   ]
  },
  {
   "cell_type": "code",
   "execution_count": 197,
   "id": "5659c8ea",
   "metadata": {},
   "outputs": [
    {
     "name": "stdout",
     "output_type": "stream",
     "text": [
      "-------------\n",
      "Round:  0  of  12\n",
      "-------------\n",
      "Round:  1  of  12\n",
      "-------------\n",
      "Round:  2  of  12\n",
      "-------------\n",
      "Round:  3  of  12\n",
      "-------------\n",
      "Round:  4  of  12\n",
      "-------------\n",
      "Round:  5  of  12\n",
      "-------------\n",
      "Round:  6  of  12\n",
      "-------------\n",
      "Round:  7  of  12\n",
      "-------------\n",
      "Round:  8  of  12\n",
      "-------------\n",
      "Round:  9  of  12\n",
      "-------------\n",
      "Round:  10  of  12\n",
      "-------------\n",
      "Round:  11  of  12\n"
     ]
    }
   ],
   "source": [
    "Gnd_QC = np.zeros(Js.shape)\n",
    "for i in range(len(Js)):\n",
    "    print(\"-------------\")\n",
    "    print(\"Round: \", i ,\" of \", len(Js))\n",
    "    for j in range(len(Js[i])):  \n",
    "        Gnd_QC[i,j] = CostSys(2.5,Js[i,j],Us[i,j],1,expectation_values)"
   ]
  },
  {
   "cell_type": "markdown",
   "id": "a895beb7",
   "metadata": {},
   "source": [
    "<h1> Compare Analytical to ITE </h1>"
   ]
  },
  {
   "cell_type": "code",
   "execution_count": 189,
   "id": "d65ee129",
   "metadata": {},
   "outputs": [
    {
     "name": "stdout",
     "output_type": "stream",
     "text": [
      "MSE:  0.001\n"
     ]
    }
   ],
   "source": [
    "MSE = np.mean((Gnd_QC-Gnd_analytical)**2)\n",
    "print(\"MSE: \", MSE.round(3).real)"
   ]
  },
  {
   "cell_type": "code",
   "execution_count": 187,
   "id": "8c59240b",
   "metadata": {},
   "outputs": [
    {
     "data": {
      "image/png": "[encoded data removed]",
      "text/plain": [
       "<Figure size 576x576 with 4 Axes>"
      ]
     },
     "metadata": {
      "needs_background": "light"
     },
     "output_type": "display_data"
    }
   ],
   "source": [
    "fig, ax = plt.subplots(2,2,gridspec_kw={'width_ratios': [6, 1]})\n",
    "fig.set_size_inches(8,8)\n",
    "surf1 = ax[0,0].contourf(Js, Us, Gnd_analytical)\n",
    "surf2 = ax[1,0].contourf(Js, Us, Gnd_QC)\n",
    "surfs = [surf1, surf2]\n",
    "ax[0,0].set_title(\"Analytical Solution\")\n",
    "ax[1,0].set_title(\"Approximate ITE\")\n",
    "\n",
    "for i in [0,1]:\n",
    "    \n",
    "    ax[i,0].set_xlabel(\"Js\")\n",
    "    ax[i,0].set_ylabel(\"Us\")\n",
    "    cbar = fig.colorbar(surfs[i], ax[i,1])\n",
    "    cbar.set_label(\"Energy A.U.\")\n",
    "fig.tight_layout()\n"
   ]
  },
  {
   "cell_type": "code",
   "execution_count": null,
   "id": "b7e1401f",
   "metadata": {},
   "outputs": [],
   "source": []
  }
 ],
 "metadata": {
  "kernelspec": {
   "display_name": "Python 3",
   "language": "python",
   "name": "python3"
  },
  "language_info": {
   "codemirror_mode": {
    "name": "ipython",
    "version": 3
   },
   "file_extension": ".py",
   "mimetype": "text/x-python",
   "name": "python",
   "nbconvert_exporter": "python",
   "pygments_lexer": "ipython3",
   "version": "3.9.5"
  }
 },
 "nbformat": 4,
 "nbformat_minor": 5
}
